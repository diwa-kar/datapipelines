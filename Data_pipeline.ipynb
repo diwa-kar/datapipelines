{
 "cells": [
  {
   "cell_type": "code",
   "execution_count": 4,
   "id": "c9a497e2",
   "metadata": {},
   "outputs": [],
   "source": [
    "#importing dependencies\n",
    "from sklearn.datasets import load_wine\n",
    "from sklearn.model_selection import train_test_split\n",
    "from sklearn.preprocessing import StandardScaler\n",
    "from sklearn.decomposition import PCA\n",
    "from sklearn.pipeline import Pipeline\n",
    "from sklearn.linear_model import LogisticRegression\n",
    "from sklearn.tree import DecisionTreeClassifier\n",
    "from sklearn.ensemble import RandomForestClassifier"
   ]
  },
  {
   "cell_type": "code",
   "execution_count": 28,
   "id": "d2465a36",
   "metadata": {},
   "outputs": [],
   "source": [
    "wine_df = load_wine()"
   ]
  },
  {
   "cell_type": "code",
   "execution_count": 32,
   "id": "24f5470b",
   "metadata": {},
   "outputs": [
    {
     "data": {
      "text/plain": [
       "{'data': array([[1.423e+01, 1.710e+00, 2.430e+00, ..., 1.040e+00, 3.920e+00,\n",
       "         1.065e+03],\n",
       "        [1.320e+01, 1.780e+00, 2.140e+00, ..., 1.050e+00, 3.400e+00,\n",
       "         1.050e+03],\n",
       "        [1.316e+01, 2.360e+00, 2.670e+00, ..., 1.030e+00, 3.170e+00,\n",
       "         1.185e+03],\n",
       "        ...,\n",
       "        [1.327e+01, 4.280e+00, 2.260e+00, ..., 5.900e-01, 1.560e+00,\n",
       "         8.350e+02],\n",
       "        [1.317e+01, 2.590e+00, 2.370e+00, ..., 6.000e-01, 1.620e+00,\n",
       "         8.400e+02],\n",
       "        [1.413e+01, 4.100e+00, 2.740e+00, ..., 6.100e-01, 1.600e+00,\n",
       "         5.600e+02]]),\n",
       " 'target': array([0, 0, 0, 0, 0, 0, 0, 0, 0, 0, 0, 0, 0, 0, 0, 0, 0, 0, 0, 0, 0, 0,\n",
       "        0, 0, 0, 0, 0, 0, 0, 0, 0, 0, 0, 0, 0, 0, 0, 0, 0, 0, 0, 0, 0, 0,\n",
       "        0, 0, 0, 0, 0, 0, 0, 0, 0, 0, 0, 0, 0, 0, 0, 1, 1, 1, 1, 1, 1, 1,\n",
       "        1, 1, 1, 1, 1, 1, 1, 1, 1, 1, 1, 1, 1, 1, 1, 1, 1, 1, 1, 1, 1, 1,\n",
       "        1, 1, 1, 1, 1, 1, 1, 1, 1, 1, 1, 1, 1, 1, 1, 1, 1, 1, 1, 1, 1, 1,\n",
       "        1, 1, 1, 1, 1, 1, 1, 1, 1, 1, 1, 1, 1, 1, 1, 1, 1, 1, 1, 1, 2, 2,\n",
       "        2, 2, 2, 2, 2, 2, 2, 2, 2, 2, 2, 2, 2, 2, 2, 2, 2, 2, 2, 2, 2, 2,\n",
       "        2, 2, 2, 2, 2, 2, 2, 2, 2, 2, 2, 2, 2, 2, 2, 2, 2, 2, 2, 2, 2, 2,\n",
       "        2, 2]),\n",
       " 'frame': None,\n",
       " 'target_names': array(['class_0', 'class_1', 'class_2'], dtype='<U7'),\n",
       " 'DESCR': '.. _wine_dataset:\\n\\nWine recognition dataset\\n------------------------\\n\\n**Data Set Characteristics:**\\n\\n    :Number of Instances: 178\\n    :Number of Attributes: 13 numeric, predictive attributes and the class\\n    :Attribute Information:\\n \\t\\t- Alcohol\\n \\t\\t- Malic acid\\n \\t\\t- Ash\\n\\t\\t- Alcalinity of ash  \\n \\t\\t- Magnesium\\n\\t\\t- Total phenols\\n \\t\\t- Flavanoids\\n \\t\\t- Nonflavanoid phenols\\n \\t\\t- Proanthocyanins\\n\\t\\t- Color intensity\\n \\t\\t- Hue\\n \\t\\t- OD280/OD315 of diluted wines\\n \\t\\t- Proline\\n\\n    - class:\\n            - class_0\\n            - class_1\\n            - class_2\\n\\t\\t\\n    :Summary Statistics:\\n    \\n    ============================= ==== ===== ======= =====\\n                                   Min   Max   Mean     SD\\n    ============================= ==== ===== ======= =====\\n    Alcohol:                      11.0  14.8    13.0   0.8\\n    Malic Acid:                   0.74  5.80    2.34  1.12\\n    Ash:                          1.36  3.23    2.36  0.27\\n    Alcalinity of Ash:            10.6  30.0    19.5   3.3\\n    Magnesium:                    70.0 162.0    99.7  14.3\\n    Total Phenols:                0.98  3.88    2.29  0.63\\n    Flavanoids:                   0.34  5.08    2.03  1.00\\n    Nonflavanoid Phenols:         0.13  0.66    0.36  0.12\\n    Proanthocyanins:              0.41  3.58    1.59  0.57\\n    Colour Intensity:              1.3  13.0     5.1   2.3\\n    Hue:                          0.48  1.71    0.96  0.23\\n    OD280/OD315 of diluted wines: 1.27  4.00    2.61  0.71\\n    Proline:                       278  1680     746   315\\n    ============================= ==== ===== ======= =====\\n\\n    :Missing Attribute Values: None\\n    :Class Distribution: class_0 (59), class_1 (71), class_2 (48)\\n    :Creator: R.A. Fisher\\n    :Donor: Michael Marshall (MARSHALL%PLU@io.arc.nasa.gov)\\n    :Date: July, 1988\\n\\nThis is a copy of UCI ML Wine recognition datasets.\\nhttps://archive.ics.uci.edu/ml/machine-learning-databases/wine/wine.data\\n\\nThe data is the results of a chemical analysis of wines grown in the same\\nregion in Italy by three different cultivators. There are thirteen different\\nmeasurements taken for different constituents found in the three types of\\nwine.\\n\\nOriginal Owners: \\n\\nForina, M. et al, PARVUS - \\nAn Extendible Package for Data Exploration, Classification and Correlation. \\nInstitute of Pharmaceutical and Food Analysis and Technologies,\\nVia Brigata Salerno, 16147 Genoa, Italy.\\n\\nCitation:\\n\\nLichman, M. (2013). UCI Machine Learning Repository\\n[https://archive.ics.uci.edu/ml]. Irvine, CA: University of California,\\nSchool of Information and Computer Science. \\n\\n.. topic:: References\\n\\n  (1) S. Aeberhard, D. Coomans and O. de Vel, \\n  Comparison of Classifiers in High Dimensional Settings, \\n  Tech. Rep. no. 92-02, (1992), Dept. of Computer Science and Dept. of  \\n  Mathematics and Statistics, James Cook University of North Queensland. \\n  (Also submitted to Technometrics). \\n\\n  The data was used with many others for comparing various \\n  classifiers. The classes are separable, though only RDA \\n  has achieved 100% correct classification. \\n  (RDA : 100%, QDA 99.4%, LDA 98.9%, 1NN 96.1% (z-transformed data)) \\n  (All results using the leave-one-out technique) \\n\\n  (2) S. Aeberhard, D. Coomans and O. de Vel, \\n  \"THE CLASSIFICATION PERFORMANCE OF RDA\" \\n  Tech. Rep. no. 92-01, (1992), Dept. of Computer Science and Dept. of \\n  Mathematics and Statistics, James Cook University of North Queensland. \\n  (Also submitted to Journal of Chemometrics).\\n',\n",
       " 'feature_names': ['alcohol',\n",
       "  'malic_acid',\n",
       "  'ash',\n",
       "  'alcalinity_of_ash',\n",
       "  'magnesium',\n",
       "  'total_phenols',\n",
       "  'flavanoids',\n",
       "  'nonflavanoid_phenols',\n",
       "  'proanthocyanins',\n",
       "  'color_intensity',\n",
       "  'hue',\n",
       "  'od280/od315_of_diluted_wines',\n",
       "  'proline']}"
      ]
     },
     "execution_count": 32,
     "metadata": {},
     "output_type": "execute_result"
    }
   ],
   "source": [
    "wine_df\n"
   ]
  },
  {
   "cell_type": "code",
   "execution_count": 39,
   "id": "88a457c0",
   "metadata": {},
   "outputs": [],
   "source": [
    "X_train,X_test,y_train,y_test = train_test_split(wine_df.data,wine_df.target,test_size=0.4,random_state=0)"
   ]
  },
  {
   "cell_type": "code",
   "execution_count": 40,
   "id": "c0c004af",
   "metadata": {},
   "outputs": [
    {
     "data": {
      "text/plain": [
       "array([[1.324e+01, 3.980e+00, 2.290e+00, ..., 8.200e-01, 3.000e+00,\n",
       "        6.800e+02],\n",
       "       [1.410e+01, 2.160e+00, 2.300e+00, ..., 1.250e+00, 3.170e+00,\n",
       "        1.510e+03],\n",
       "       [1.161e+01, 1.350e+00, 2.700e+00, ..., 9.600e-01, 3.260e+00,\n",
       "        6.800e+02],\n",
       "       ...,\n",
       "       [1.242e+01, 1.610e+00, 2.190e+00, ..., 1.060e+00, 2.960e+00,\n",
       "        3.450e+02],\n",
       "       [1.390e+01, 1.680e+00, 2.120e+00, ..., 9.100e-01, 3.330e+00,\n",
       "        9.850e+02],\n",
       "       [1.416e+01, 2.510e+00, 2.480e+00, ..., 6.200e-01, 1.710e+00,\n",
       "        6.600e+02]])"
      ]
     },
     "execution_count": 40,
     "metadata": {},
     "output_type": "execute_result"
    }
   ],
   "source": [
    "X_train"
   ]
  },
  {
   "cell_type": "code",
   "execution_count": 41,
   "id": "9370a0bf",
   "metadata": {},
   "outputs": [
    {
     "data": {
      "text/plain": [
       "array([[1.374e+01, 1.670e+00, 2.250e+00, 1.640e+01, 1.180e+02, 2.600e+00,\n",
       "        2.900e+00, 2.100e-01, 1.620e+00, 5.850e+00, 9.200e-01, 3.200e+00,\n",
       "        1.060e+03],\n",
       "       [1.279e+01, 2.670e+00, 2.480e+00, 2.200e+01, 1.120e+02, 1.480e+00,\n",
       "        1.360e+00, 2.400e-01, 1.260e+00, 1.080e+01, 4.800e-01, 1.470e+00,\n",
       "        4.800e+02],\n",
       "       [1.237e+01, 1.130e+00, 2.160e+00, 1.900e+01, 8.700e+01, 3.500e+00,\n",
       "        3.100e+00, 1.900e-01, 1.870e+00, 4.450e+00, 1.220e+00, 2.870e+00,\n",
       "        4.200e+02],\n",
       "       [1.356e+01, 1.730e+00, 2.460e+00, 2.050e+01, 1.160e+02, 2.960e+00,\n",
       "        2.780e+00, 2.000e-01, 2.450e+00, 6.250e+00, 9.800e-01, 3.030e+00,\n",
       "        1.120e+03],\n",
       "       [1.305e+01, 5.800e+00, 2.130e+00, 2.150e+01, 8.600e+01, 2.620e+00,\n",
       "        2.650e+00, 3.000e-01, 2.010e+00, 2.600e+00, 7.300e-01, 3.100e+00,\n",
       "        3.800e+02],\n",
       "       [1.156e+01, 2.050e+00, 3.230e+00, 2.850e+01, 1.190e+02, 3.180e+00,\n",
       "        5.080e+00, 4.700e-01, 1.870e+00, 6.000e+00, 9.300e-01, 3.690e+00,\n",
       "        4.650e+02],\n",
       "       [1.406e+01, 2.150e+00, 2.610e+00, 1.760e+01, 1.210e+02, 2.600e+00,\n",
       "        2.510e+00, 3.100e-01, 1.250e+00, 5.050e+00, 1.060e+00, 3.580e+00,\n",
       "        1.295e+03],\n",
       "       [1.236e+01, 3.830e+00, 2.380e+00, 2.100e+01, 8.800e+01, 2.300e+00,\n",
       "        9.200e-01, 5.000e-01, 1.040e+00, 7.650e+00, 5.600e-01, 1.580e+00,\n",
       "        5.200e+02],\n",
       "       [1.225e+01, 1.730e+00, 2.120e+00, 1.900e+01, 8.000e+01, 1.650e+00,\n",
       "        2.030e+00, 3.700e-01, 1.630e+00, 3.400e+00, 1.000e+00, 3.170e+00,\n",
       "        5.100e+02],\n",
       "       [1.208e+01, 1.830e+00, 2.320e+00, 1.850e+01, 8.100e+01, 1.600e+00,\n",
       "        1.500e+00, 5.200e-01, 1.640e+00, 2.400e+00, 1.080e+00, 2.270e+00,\n",
       "        4.800e+02],\n",
       "       [1.336e+01, 2.560e+00, 2.350e+00, 2.000e+01, 8.900e+01, 1.400e+00,\n",
       "        5.000e-01, 3.700e-01, 6.400e-01, 5.600e+00, 7.000e-01, 2.470e+00,\n",
       "        7.800e+02],\n",
       "       [1.388e+01, 5.040e+00, 2.230e+00, 2.000e+01, 8.000e+01, 9.800e-01,\n",
       "        3.400e-01, 4.000e-01, 6.800e-01, 4.900e+00, 5.800e-01, 1.330e+00,\n",
       "        4.150e+02],\n",
       "       [1.420e+01, 1.760e+00, 2.450e+00, 1.520e+01, 1.120e+02, 3.270e+00,\n",
       "        3.390e+00, 3.400e-01, 1.970e+00, 6.750e+00, 1.050e+00, 2.850e+00,\n",
       "        1.450e+03],\n",
       "       [1.237e+01, 1.070e+00, 2.100e+00, 1.850e+01, 8.800e+01, 3.520e+00,\n",
       "        3.750e+00, 2.400e-01, 1.950e+00, 4.500e+00, 1.040e+00, 2.770e+00,\n",
       "        6.600e+02],\n",
       "       [1.358e+01, 2.580e+00, 2.690e+00, 2.450e+01, 1.050e+02, 1.550e+00,\n",
       "        8.400e-01, 3.900e-01, 1.540e+00, 8.660e+00, 7.400e-01, 1.800e+00,\n",
       "        7.500e+02],\n",
       "       [1.200e+01, 9.200e-01, 2.000e+00, 1.900e+01, 8.600e+01, 2.420e+00,\n",
       "        2.260e+00, 3.000e-01, 1.430e+00, 2.500e+00, 1.380e+00, 3.120e+00,\n",
       "        2.780e+02],\n",
       "       [1.376e+01, 1.530e+00, 2.700e+00, 1.950e+01, 1.320e+02, 2.950e+00,\n",
       "        2.740e+00, 5.000e-01, 1.350e+00, 5.400e+00, 1.250e+00, 3.000e+00,\n",
       "        1.235e+03],\n",
       "       [1.419e+01, 1.590e+00, 2.480e+00, 1.650e+01, 1.080e+02, 3.300e+00,\n",
       "        3.930e+00, 3.200e-01, 1.860e+00, 8.700e+00, 1.230e+00, 2.820e+00,\n",
       "        1.680e+03],\n",
       "       [1.264e+01, 1.360e+00, 2.020e+00, 1.680e+01, 1.000e+02, 2.020e+00,\n",
       "        1.410e+00, 5.300e-01, 6.200e-01, 5.750e+00, 9.800e-01, 1.590e+00,\n",
       "        4.500e+02],\n",
       "       [1.383e+01, 1.650e+00, 2.600e+00, 1.720e+01, 9.400e+01, 2.450e+00,\n",
       "        2.990e+00, 2.200e-01, 2.290e+00, 5.600e+00, 1.240e+00, 3.370e+00,\n",
       "        1.265e+03],\n",
       "       [1.311e+01, 1.010e+00, 1.700e+00, 1.500e+01, 7.800e+01, 2.980e+00,\n",
       "        3.180e+00, 2.600e-01, 2.280e+00, 5.300e+00, 1.120e+00, 3.180e+00,\n",
       "        5.020e+02],\n",
       "       [1.305e+01, 1.650e+00, 2.550e+00, 1.800e+01, 9.800e+01, 2.450e+00,\n",
       "        2.430e+00, 2.900e-01, 1.440e+00, 4.250e+00, 1.120e+00, 2.510e+00,\n",
       "        1.105e+03],\n",
       "       [1.324e+01, 2.590e+00, 2.870e+00, 2.100e+01, 1.180e+02, 2.800e+00,\n",
       "        2.690e+00, 3.900e-01, 1.820e+00, 4.320e+00, 1.040e+00, 2.930e+00,\n",
       "        7.350e+02],\n",
       "       [1.251e+01, 1.730e+00, 1.980e+00, 2.050e+01, 8.500e+01, 2.200e+00,\n",
       "        1.920e+00, 3.200e-01, 1.480e+00, 2.940e+00, 1.040e+00, 3.570e+00,\n",
       "        6.720e+02],\n",
       "       [1.233e+01, 1.100e+00, 2.280e+00, 1.600e+01, 1.010e+02, 2.050e+00,\n",
       "        1.090e+00, 6.300e-01, 4.100e-01, 3.270e+00, 1.250e+00, 1.670e+00,\n",
       "        6.800e+02],\n",
       "       [1.252e+01, 2.430e+00, 2.170e+00, 2.100e+01, 8.800e+01, 2.550e+00,\n",
       "        2.270e+00, 2.600e-01, 1.220e+00, 2.000e+00, 9.000e-01, 2.780e+00,\n",
       "        3.250e+02],\n",
       "       [1.243e+01, 1.530e+00, 2.290e+00, 2.150e+01, 8.600e+01, 2.740e+00,\n",
       "        3.150e+00, 3.900e-01, 1.770e+00, 3.940e+00, 6.900e-01, 2.840e+00,\n",
       "        3.520e+02],\n",
       "       [1.216e+01, 1.610e+00, 2.310e+00, 2.280e+01, 9.000e+01, 1.780e+00,\n",
       "        1.690e+00, 4.300e-01, 1.560e+00, 2.450e+00, 1.330e+00, 2.260e+00,\n",
       "        4.950e+02],\n",
       "       [1.176e+01, 2.680e+00, 2.920e+00, 2.000e+01, 1.030e+02, 1.750e+00,\n",
       "        2.030e+00, 6.000e-01, 1.050e+00, 3.800e+00, 1.230e+00, 2.500e+00,\n",
       "        6.070e+02],\n",
       "       [1.378e+01, 2.760e+00, 2.300e+00, 2.200e+01, 9.000e+01, 1.350e+00,\n",
       "        6.800e-01, 4.100e-01, 1.030e+00, 9.580e+00, 7.000e-01, 1.680e+00,\n",
       "        6.150e+02],\n",
       "       [1.339e+01, 1.770e+00, 2.620e+00, 1.610e+01, 9.300e+01, 2.850e+00,\n",
       "        2.940e+00, 3.400e-01, 1.450e+00, 4.800e+00, 9.200e-01, 3.220e+00,\n",
       "        1.195e+03],\n",
       "       [1.422e+01, 1.700e+00, 2.300e+00, 1.630e+01, 1.180e+02, 3.200e+00,\n",
       "        3.000e+00, 2.600e-01, 2.030e+00, 6.380e+00, 9.400e-01, 3.310e+00,\n",
       "        9.700e+02],\n",
       "       [1.204e+01, 4.300e+00, 2.380e+00, 2.200e+01, 8.000e+01, 2.100e+00,\n",
       "        1.750e+00, 4.200e-01, 1.350e+00, 2.600e+00, 7.900e-01, 2.570e+00,\n",
       "        5.800e+02],\n",
       "       [1.421e+01, 4.040e+00, 2.440e+00, 1.890e+01, 1.110e+02, 2.850e+00,\n",
       "        2.650e+00, 3.000e-01, 1.250e+00, 5.240e+00, 8.700e-01, 3.330e+00,\n",
       "        1.080e+03],\n",
       "       [1.483e+01, 1.640e+00, 2.170e+00, 1.400e+01, 9.700e+01, 2.800e+00,\n",
       "        2.980e+00, 2.900e-01, 1.980e+00, 5.200e+00, 1.080e+00, 2.850e+00,\n",
       "        1.045e+03],\n",
       "       [1.305e+01, 1.770e+00, 2.100e+00, 1.700e+01, 1.070e+02, 3.000e+00,\n",
       "        3.000e+00, 2.800e-01, 2.030e+00, 5.040e+00, 8.800e-01, 3.350e+00,\n",
       "        8.850e+02],\n",
       "       [1.369e+01, 3.260e+00, 2.540e+00, 2.000e+01, 1.070e+02, 1.830e+00,\n",
       "        5.600e-01, 5.000e-01, 8.000e-01, 5.880e+00, 9.600e-01, 1.820e+00,\n",
       "        6.800e+02],\n",
       "       [1.269e+01, 1.530e+00, 2.260e+00, 2.070e+01, 8.000e+01, 1.380e+00,\n",
       "        1.460e+00, 5.800e-01, 1.620e+00, 3.050e+00, 9.600e-01, 2.060e+00,\n",
       "        4.950e+02],\n",
       "       [1.162e+01, 1.990e+00, 2.280e+00, 1.800e+01, 9.800e+01, 3.020e+00,\n",
       "        2.260e+00, 1.700e-01, 1.350e+00, 3.250e+00, 1.160e+00, 2.960e+00,\n",
       "        3.450e+02],\n",
       "       [1.340e+01, 3.910e+00, 2.480e+00, 2.300e+01, 1.020e+02, 1.800e+00,\n",
       "        7.500e-01, 4.300e-01, 1.410e+00, 7.300e+00, 7.000e-01, 1.560e+00,\n",
       "        7.500e+02],\n",
       "       [1.350e+01, 1.810e+00, 2.610e+00, 2.000e+01, 9.600e+01, 2.530e+00,\n",
       "        2.610e+00, 2.800e-01, 1.660e+00, 3.520e+00, 1.120e+00, 3.820e+00,\n",
       "        8.450e+02],\n",
       "       [1.373e+01, 1.500e+00, 2.700e+00, 2.250e+01, 1.010e+02, 3.000e+00,\n",
       "        3.250e+00, 2.900e-01, 2.380e+00, 5.700e+00, 1.190e+00, 2.710e+00,\n",
       "        1.285e+03],\n",
       "       [1.229e+01, 2.830e+00, 2.220e+00, 1.800e+01, 8.800e+01, 2.450e+00,\n",
       "        2.250e+00, 2.500e-01, 1.990e+00, 2.150e+00, 1.150e+00, 3.300e+00,\n",
       "        2.900e+02],\n",
       "       [1.260e+01, 1.340e+00, 1.900e+00, 1.850e+01, 8.800e+01, 1.450e+00,\n",
       "        1.360e+00, 2.900e-01, 1.350e+00, 2.450e+00, 1.040e+00, 2.770e+00,\n",
       "        5.620e+02],\n",
       "       [1.141e+01, 7.400e-01, 2.500e+00, 2.100e+01, 8.800e+01, 2.480e+00,\n",
       "        2.010e+00, 4.200e-01, 1.440e+00, 3.080e+00, 1.100e+00, 2.310e+00,\n",
       "        4.340e+02],\n",
       "       [1.364e+01, 3.100e+00, 2.560e+00, 1.520e+01, 1.160e+02, 2.700e+00,\n",
       "        3.030e+00, 1.700e-01, 1.660e+00, 5.100e+00, 9.600e-01, 3.360e+00,\n",
       "        8.450e+02],\n",
       "       [1.260e+01, 2.460e+00, 2.200e+00, 1.850e+01, 9.400e+01, 1.620e+00,\n",
       "        6.600e-01, 6.300e-01, 9.400e-01, 7.100e+00, 7.300e-01, 1.580e+00,\n",
       "        6.950e+02],\n",
       "       [1.196e+01, 1.090e+00, 2.300e+00, 2.100e+01, 1.010e+02, 3.380e+00,\n",
       "        2.140e+00, 1.300e-01, 1.650e+00, 3.210e+00, 9.900e-01, 3.130e+00,\n",
       "        8.860e+02],\n",
       "       [1.225e+01, 3.880e+00, 2.200e+00, 1.850e+01, 1.120e+02, 1.380e+00,\n",
       "        7.800e-01, 2.900e-01, 1.140e+00, 8.210e+00, 6.500e-01, 2.000e+00,\n",
       "        8.550e+02],\n",
       "       [1.430e+01, 1.920e+00, 2.720e+00, 2.000e+01, 1.200e+02, 2.800e+00,\n",
       "        3.140e+00, 3.300e-01, 1.970e+00, 6.200e+00, 1.070e+00, 2.650e+00,\n",
       "        1.280e+03],\n",
       "       [1.288e+01, 2.990e+00, 2.400e+00, 2.000e+01, 1.040e+02, 1.300e+00,\n",
       "        1.220e+00, 2.400e-01, 8.300e-01, 5.400e+00, 7.400e-01, 1.420e+00,\n",
       "        5.300e+02],\n",
       "       [1.349e+01, 3.590e+00, 2.190e+00, 1.950e+01, 8.800e+01, 1.620e+00,\n",
       "        4.800e-01, 5.800e-01, 8.800e-01, 5.700e+00, 8.100e-01, 1.820e+00,\n",
       "        5.800e+02],\n",
       "       [1.356e+01, 1.710e+00, 2.310e+00, 1.620e+01, 1.170e+02, 3.150e+00,\n",
       "        3.290e+00, 3.400e-01, 2.340e+00, 6.130e+00, 9.500e-01, 3.380e+00,\n",
       "        7.950e+02],\n",
       "       [1.434e+01, 1.680e+00, 2.700e+00, 2.500e+01, 9.800e+01, 2.800e+00,\n",
       "        1.310e+00, 5.300e-01, 2.700e+00, 1.300e+01, 5.700e-01, 1.960e+00,\n",
       "        6.600e+02],\n",
       "       [1.371e+01, 1.860e+00, 2.360e+00, 1.660e+01, 1.010e+02, 2.610e+00,\n",
       "        2.880e+00, 2.700e-01, 1.690e+00, 3.800e+00, 1.110e+00, 4.000e+00,\n",
       "        1.035e+03],\n",
       "       [1.222e+01, 1.290e+00, 1.940e+00, 1.900e+01, 9.200e+01, 2.360e+00,\n",
       "        2.040e+00, 3.900e-01, 2.080e+00, 2.700e+00, 8.600e-01, 3.020e+00,\n",
       "        3.120e+02],\n",
       "       [1.327e+01, 4.280e+00, 2.260e+00, 2.000e+01, 1.200e+02, 1.590e+00,\n",
       "        6.900e-01, 4.300e-01, 1.350e+00, 1.020e+01, 5.900e-01, 1.560e+00,\n",
       "        8.350e+02],\n",
       "       [1.316e+01, 3.570e+00, 2.150e+00, 2.100e+01, 1.020e+02, 1.500e+00,\n",
       "        5.500e-01, 4.300e-01, 1.300e+00, 4.000e+00, 6.000e-01, 1.680e+00,\n",
       "        8.300e+02],\n",
       "       [1.386e+01, 1.510e+00, 2.670e+00, 2.500e+01, 8.600e+01, 2.950e+00,\n",
       "        2.860e+00, 2.100e-01, 1.870e+00, 3.380e+00, 1.360e+00, 3.160e+00,\n",
       "        4.100e+02],\n",
       "       [1.285e+01, 3.270e+00, 2.580e+00, 2.200e+01, 1.060e+02, 1.650e+00,\n",
       "        6.000e-01, 6.000e-01, 9.600e-01, 5.580e+00, 8.700e-01, 2.110e+00,\n",
       "        5.700e+02],\n",
       "       [1.384e+01, 4.120e+00, 2.380e+00, 1.950e+01, 8.900e+01, 1.800e+00,\n",
       "        8.300e-01, 4.800e-01, 1.560e+00, 9.010e+00, 5.700e-01, 1.640e+00,\n",
       "        4.800e+02],\n",
       "       [1.330e+01, 1.720e+00, 2.140e+00, 1.700e+01, 9.400e+01, 2.400e+00,\n",
       "        2.190e+00, 2.700e-01, 1.350e+00, 3.950e+00, 1.020e+00, 2.770e+00,\n",
       "        1.285e+03],\n",
       "       [1.305e+01, 3.860e+00, 2.320e+00, 2.250e+01, 8.500e+01, 1.650e+00,\n",
       "        1.590e+00, 6.100e-01, 1.620e+00, 4.800e+00, 8.400e-01, 2.010e+00,\n",
       "        5.150e+02],\n",
       "       [1.251e+01, 1.240e+00, 2.250e+00, 1.750e+01, 8.500e+01, 2.000e+00,\n",
       "        5.800e-01, 6.000e-01, 1.250e+00, 5.450e+00, 7.500e-01, 1.510e+00,\n",
       "        6.500e+02],\n",
       "       [1.229e+01, 1.410e+00, 1.980e+00, 1.600e+01, 8.500e+01, 2.550e+00,\n",
       "        2.500e+00, 2.900e-01, 1.770e+00, 2.900e+00, 1.230e+00, 2.740e+00,\n",
       "        4.280e+02],\n",
       "       [1.277e+01, 3.430e+00, 1.980e+00, 1.600e+01, 8.000e+01, 1.630e+00,\n",
       "        1.250e+00, 4.300e-01, 8.300e-01, 3.400e+00, 7.000e-01, 2.120e+00,\n",
       "        3.720e+02],\n",
       "       [1.296e+01, 3.450e+00, 2.350e+00, 1.850e+01, 1.060e+02, 1.390e+00,\n",
       "        7.000e-01, 4.000e-01, 9.400e-01, 5.280e+00, 6.800e-01, 1.750e+00,\n",
       "        6.750e+02],\n",
       "       [1.367e+01, 1.250e+00, 1.920e+00, 1.800e+01, 9.400e+01, 2.100e+00,\n",
       "        1.790e+00, 3.200e-01, 7.300e-01, 3.800e+00, 1.230e+00, 2.460e+00,\n",
       "        6.300e+02],\n",
       "       [1.316e+01, 2.360e+00, 2.670e+00, 1.860e+01, 1.010e+02, 2.800e+00,\n",
       "        3.240e+00, 3.000e-01, 2.810e+00, 5.680e+00, 1.030e+00, 3.170e+00,\n",
       "        1.185e+03],\n",
       "       [1.237e+01, 9.400e-01, 1.360e+00, 1.060e+01, 8.800e+01, 1.980e+00,\n",
       "        5.700e-01, 2.800e-01, 4.200e-01, 1.950e+00, 1.050e+00, 1.820e+00,\n",
       "        5.200e+02],\n",
       "       [1.247e+01, 1.520e+00, 2.200e+00, 1.900e+01, 1.620e+02, 2.500e+00,\n",
       "        2.270e+00, 3.200e-01, 3.280e+00, 2.600e+00, 1.160e+00, 2.630e+00,\n",
       "        9.370e+02],\n",
       "       [1.181e+01, 2.120e+00, 2.740e+00, 2.150e+01, 1.340e+02, 1.600e+00,\n",
       "        9.900e-01, 1.400e-01, 1.560e+00, 2.500e+00, 9.500e-01, 2.260e+00,\n",
       "        6.250e+02]])"
      ]
     },
     "execution_count": 41,
     "metadata": {},
     "output_type": "execute_result"
    }
   ],
   "source": [
    "X_test"
   ]
  },
  {
   "cell_type": "markdown",
   "id": "7305751f",
   "metadata": {},
   "source": [
    "# pipeline for logistic regression"
   ]
  },
  {
   "cell_type": "code",
   "execution_count": 43,
   "id": "b4127b19",
   "metadata": {},
   "outputs": [],
   "source": [
    "pipeline_lr=Pipeline([('scalar1',StandardScaler()),\n",
    "                     ('pca1',PCA(n_components=2)),\n",
    "                     ('lr_classifier',LogisticRegression(random_state=0))])"
   ]
  },
  {
   "cell_type": "markdown",
   "id": "513aaa8e",
   "metadata": {},
   "source": [
    "# pipeline for Decision Tree"
   ]
  },
  {
   "cell_type": "code",
   "execution_count": 44,
   "id": "b2fc48da",
   "metadata": {},
   "outputs": [],
   "source": [
    "pipeline_dt=Pipeline([('scalar2',StandardScaler()),\n",
    "                     ('pca2',PCA(n_components=2)),\n",
    "                     ('dt_classifier',DecisionTreeClassifier())])"
   ]
  },
  {
   "cell_type": "markdown",
   "id": "4d0dd2e2",
   "metadata": {},
   "source": [
    "# pipeline for RandomForest"
   ]
  },
  {
   "cell_type": "code",
   "execution_count": 45,
   "id": "efa070a7",
   "metadata": {},
   "outputs": [],
   "source": [
    "pipeline_randomforest=Pipeline([('scalar3',StandardScaler()),\n",
    "                     ('pca3',PCA(n_components=2)),\n",
    "                     ('rf_classifier',RandomForestClassifier())])"
   ]
  },
  {
   "cell_type": "code",
   "execution_count": 46,
   "id": "7acd8541",
   "metadata": {},
   "outputs": [],
   "source": [
    "## LEts make the list of pipelines\n",
    "pipelines = [pipeline_lr, pipeline_dt, pipeline_randomforest]"
   ]
  },
  {
   "cell_type": "code",
   "execution_count": 47,
   "id": "252f4e35",
   "metadata": {},
   "outputs": [],
   "source": [
    "best_accuracy=0.0\n",
    "best_classifier=0\n",
    "best_pipeline=\"\""
   ]
  },
  {
   "cell_type": "code",
   "execution_count": 48,
   "id": "964ec197",
   "metadata": {},
   "outputs": [],
   "source": [
    "# Dictionary of pipelines and classifier types for ease of reference\n",
    "pipe_dict = {0: 'Logistic Regression', 1: 'Decision Tree', 2: 'RandomForest'}\n",
    "\n",
    "# Fit the pipelines\n",
    "for pipe in pipelines:\n",
    "\tpipe.fit(X_train, y_train)"
   ]
  },
  {
   "cell_type": "code",
   "execution_count": 49,
   "id": "8f924b34",
   "metadata": {},
   "outputs": [
    {
     "name": "stdout",
     "output_type": "stream",
     "text": [
      "Logistic Regression Test Accuracy: 0.9583333333333334\n",
      "Decision Tree Test Accuracy: 0.9583333333333334\n",
      "RandomForest Test Accuracy: 0.9583333333333334\n"
     ]
    }
   ],
   "source": [
    "for i,model in enumerate(pipelines):\n",
    "    print(\"{} Test Accuracy: {}\".format(pipe_dict[i],model.score(X_test,y_test)))"
   ]
  },
  {
   "cell_type": "code",
   "execution_count": 51,
   "id": "b9e9f447",
   "metadata": {},
   "outputs": [
    {
     "name": "stdout",
     "output_type": "stream",
     "text": [
      "Classifier with best accuracy for wine data set:Logistic Regression\n"
     ]
    }
   ],
   "source": [
    "for i,model in enumerate(pipelines):\n",
    "    if model.score(X_test,y_test)>best_accuracy:\n",
    "        best_accuracy=model.score(X_test,y_test)\n",
    "        best_pipeline=model\n",
    "        best_classifier=i\n",
    "print('Classifier with best accuracy for wine data set:{}'.format(pipe_dict[best_classifier]))"
   ]
  },
  {
   "cell_type": "code",
   "execution_count": null,
   "id": "31bb3c00",
   "metadata": {},
   "outputs": [],
   "source": []
  }
 ],
 "metadata": {
  "kernelspec": {
   "display_name": "Python 3 (ipykernel)",
   "language": "python",
   "name": "python3"
  },
  "language_info": {
   "codemirror_mode": {
    "name": "ipython",
    "version": 3
   },
   "file_extension": ".py",
   "mimetype": "text/x-python",
   "name": "python",
   "nbconvert_exporter": "python",
   "pygments_lexer": "ipython3",
   "version": "3.9.12"
  }
 },
 "nbformat": 4,
 "nbformat_minor": 5
}
